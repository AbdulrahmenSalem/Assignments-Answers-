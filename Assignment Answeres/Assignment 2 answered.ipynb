{
 "cells": [
  {
   "cell_type": "markdown",
   "metadata": {
    "collapsed": true
   },
   "source": [
    "# Assignment 2\n",
    "Let's test your knowledge!"
   ]
  },
  {
   "cell_type": "markdown",
   "metadata": {},
   "source": [
    "_____\n",
    "**Use <code>for</code>, .split(), and <code>if</code> to create a Statement that will print out words that start with 's':**"
   ]
  },
  {
   "cell_type": "code",
   "execution_count": 17,
   "metadata": {},
   "outputs": [],
   "source": [
    "st = 'Print only the words that start with s in this sentence'"
   ]
  },
  {
   "cell_type": "code",
   "execution_count": 18,
   "metadata": {},
   "outputs": [
    {
     "name": "stdout",
     "output_type": "stream",
     "text": [
      "start\n",
      "s\n",
      "sentence\n"
     ]
    }
   ],
   "source": [
    "#Code here\n",
    "x=st.split()\n",
    "\n",
    "for i in range (0,len(x)) :\n",
    "    if x[i][0] == \"s\":\n",
    "        print (x[i])\n",
    "    "
   ]
  },
  {
   "cell_type": "markdown",
   "metadata": {},
   "source": [
    "______\n",
    "**Use range() to print all the even numbers from 0 to 10.**"
   ]
  },
  {
   "cell_type": "code",
   "execution_count": 19,
   "metadata": {},
   "outputs": [
    {
     "name": "stdout",
     "output_type": "stream",
     "text": [
      "2\n",
      "4\n",
      "6\n",
      "8\n",
      "10\n"
     ]
    }
   ],
   "source": [
    "for i in range (1,11):\n",
    "    if i % 2 == 0 :\n",
    "        print(i)"
   ]
  },
  {
   "cell_type": "markdown",
   "metadata": {},
   "source": [
    "___\n",
    "**Use a List Comprehension to create a list of all numbers between 1 and 50 that are divisible by 3.**"
   ]
  },
  {
   "cell_type": "code",
   "execution_count": 20,
   "metadata": {},
   "outputs": [
    {
     "name": "stdout",
     "output_type": "stream",
     "text": [
      "[3, 6, 9, 12, 15, 18, 21, 24, 27, 30, 33, 36, 39, 42, 45, 48]\n"
     ]
    }
   ],
   "source": [
    "#Code Here\n",
    "l=[]\n",
    "for x in range (1,51) :\n",
    "    if x % 3 == 0 :\n",
    "        l.append(x)\n",
    "print(l)\n",
    "        "
   ]
  },
  {
   "cell_type": "markdown",
   "metadata": {},
   "source": [
    "_____\n",
    "**Go through the string below and if the length of a word is even print \"even!\"**"
   ]
  },
  {
   "cell_type": "code",
   "execution_count": 21,
   "metadata": {},
   "outputs": [],
   "source": [
    "st2 = 'Print every word in this sentence that has an even number of letters'"
   ]
  },
  {
   "cell_type": "code",
   "execution_count": 22,
   "metadata": {},
   "outputs": [
    {
     "name": "stdout",
     "output_type": "stream",
     "text": [
      "Print\n",
      "every\n",
      "even!\n",
      "even!\n",
      "even!\n",
      "even!\n",
      "even!\n",
      "has\n",
      "even!\n",
      "even!\n",
      "even!\n",
      "even!\n",
      "letters\n"
     ]
    }
   ],
   "source": [
    "#Code in this cell\n",
    "x=st2.split()\n",
    "for i in range (0,len(x)):\n",
    "    if len(x[i]) % 2 == 0 :\n",
    "        print(\"even!\")\n",
    "    else :\n",
    "        print(x[i])\n",
    "    "
   ]
  },
  {
   "cell_type": "markdown",
   "metadata": {},
   "source": [
    "____\n",
    "**Write a program that prints the integers from 1 to 100. But for multiples of three print \"Fizz\" instead of the number, and for the multiples of five print \"Buzz\". For numbers which are multiples of both three and five print \"FizzBuzz\".**"
   ]
  },
  {
   "cell_type": "code",
   "execution_count": 23,
   "metadata": {},
   "outputs": [
    {
     "name": "stdout",
     "output_type": "stream",
     "text": [
      "0  : is FIZZ,BUZZ\n",
      "1  : is NONE \n",
      "2  : is NONE \n",
      "3  : is FIZZ\n",
      "4  : is NONE \n",
      "5  : is BUZZ\n",
      "6  : is FIZZ\n",
      "7  : is NONE \n",
      "8  : is NONE \n",
      "9  : is FIZZ\n",
      "10  : is BUZZ\n",
      "11  : is NONE \n",
      "12  : is FIZZ\n",
      "13  : is NONE \n",
      "14  : is NONE \n",
      "15  : is FIZZ,BUZZ\n",
      "16  : is NONE \n",
      "17  : is NONE \n",
      "18  : is FIZZ\n",
      "19  : is NONE \n",
      "20  : is BUZZ\n",
      "21  : is FIZZ\n",
      "22  : is NONE \n",
      "23  : is NONE \n",
      "24  : is FIZZ\n",
      "25  : is BUZZ\n",
      "26  : is NONE \n",
      "27  : is FIZZ\n",
      "28  : is NONE \n",
      "29  : is NONE \n",
      "30  : is FIZZ,BUZZ\n",
      "31  : is NONE \n",
      "32  : is NONE \n",
      "33  : is FIZZ\n",
      "34  : is NONE \n",
      "35  : is BUZZ\n",
      "36  : is FIZZ\n",
      "37  : is NONE \n",
      "38  : is NONE \n",
      "39  : is FIZZ\n",
      "40  : is BUZZ\n",
      "41  : is NONE \n",
      "42  : is FIZZ\n",
      "43  : is NONE \n",
      "44  : is NONE \n",
      "45  : is FIZZ,BUZZ\n",
      "46  : is NONE \n",
      "47  : is NONE \n",
      "48  : is FIZZ\n",
      "49  : is NONE \n",
      "50  : is BUZZ\n",
      "51  : is FIZZ\n",
      "52  : is NONE \n",
      "53  : is NONE \n",
      "54  : is FIZZ\n",
      "55  : is BUZZ\n",
      "56  : is NONE \n",
      "57  : is FIZZ\n",
      "58  : is NONE \n",
      "59  : is NONE \n",
      "60  : is FIZZ,BUZZ\n",
      "61  : is NONE \n",
      "62  : is NONE \n",
      "63  : is FIZZ\n",
      "64  : is NONE \n",
      "65  : is BUZZ\n",
      "66  : is FIZZ\n",
      "67  : is NONE \n",
      "68  : is NONE \n",
      "69  : is FIZZ\n",
      "70  : is BUZZ\n",
      "71  : is NONE \n",
      "72  : is FIZZ\n",
      "73  : is NONE \n",
      "74  : is NONE \n",
      "75  : is FIZZ,BUZZ\n",
      "76  : is NONE \n",
      "77  : is NONE \n",
      "78  : is FIZZ\n",
      "79  : is NONE \n",
      "80  : is BUZZ\n",
      "81  : is FIZZ\n",
      "82  : is NONE \n",
      "83  : is NONE \n",
      "84  : is FIZZ\n",
      "85  : is BUZZ\n",
      "86  : is NONE \n",
      "87  : is FIZZ\n",
      "88  : is NONE \n",
      "89  : is NONE \n",
      "90  : is FIZZ,BUZZ\n",
      "91  : is NONE \n",
      "92  : is NONE \n",
      "93  : is FIZZ\n",
      "94  : is NONE \n",
      "95  : is BUZZ\n",
      "96  : is FIZZ\n",
      "97  : is NONE \n",
      "98  : is NONE \n",
      "99  : is FIZZ\n",
      "100  : is BUZZ\n"
     ]
    }
   ],
   "source": [
    "#Code in this cell\n",
    "for x in range (0,101):       \n",
    "    if x % 3 == 0 and x % 5 == 0 :\n",
    "        print ( x , \" : is FIZZ,BUZZ\")\n",
    "    elif x % 5 == 0 :\n",
    "        print (x , \" : is BUZZ\")\n",
    "    elif x % 3 == 0  :\n",
    "        print ( x , \" : is FIZZ\")\n",
    "    else :\n",
    "        print ( x , \" : is NONE \")\n",
    "            \n",
    "\n",
    "\n",
    "\n"
   ]
  },
  {
   "cell_type": "markdown",
   "metadata": {},
   "source": [
    "____\n",
    "**Use List Comprehension to create a list of the first letters of every word in the string below:**"
   ]
  },
  {
   "cell_type": "code",
   "execution_count": 24,
   "metadata": {},
   "outputs": [],
   "source": [
    "st3 = 'Create a list of the first letters of every word in this string'"
   ]
  },
  {
   "cell_type": "code",
   "execution_count": 16,
   "metadata": {},
   "outputs": [
    {
     "name": "stdout",
     "output_type": "stream",
     "text": [
      "['C', 'a', 'l', 'o', 't', 'f', 'l', 'o', 'e', 'w', 'i', 't', 's']\n"
     ]
    }
   ],
   "source": [
    "#Code in this cell\n",
    "x=st3.split()\n",
    "y=[]\n",
    "for i in range (0,len(x)) :\n",
    "    y.append(x[i][0])\n",
    "print (y)\n",
    "    "
   ]
  },
  {
   "cell_type": "markdown",
   "metadata": {},
   "source": [
    "### Great Job!"
   ]
  }
 ],
 "metadata": {
  "kernelspec": {
   "display_name": "Python 3 (ipykernel)",
   "language": "python",
   "name": "python3"
  },
  "language_info": {
   "codemirror_mode": {
    "name": "ipython",
    "version": 3
   },
   "file_extension": ".py",
   "mimetype": "text/x-python",
   "name": "python",
   "nbconvert_exporter": "python",
   "pygments_lexer": "ipython3",
   "version": "3.9.12"
  }
 },
 "nbformat": 4,
 "nbformat_minor": 1
}
