{
 "cells": [
  {
   "cell_type": "code",
   "execution_count": 3,
   "id": "b19ad84d",
   "metadata": {},
   "outputs": [
    {
     "name": "stdout",
     "output_type": "stream",
     "text": [
      "please enter Calculator mode (sum - sub - div - mult) : div \n",
      "input first number : 5\n",
      "input second number : 0\n",
      "input second number not equal to zero : 0\n",
      "input second number not equal to zero : 5\n",
      " Result =  1.0\n",
      "if u wanna continue enter (yes) , if not enter (stop) : yes\n",
      "please enter Calculator mode (sum - sub - div - mult) : dif\n",
      "please enter Calculator mode (sum - sub - div - mult) : 55\n",
      "please enter Calculator mode (sum - sub - div - mult) : 0\n",
      "please enter Calculator mode (sum - sub - div - mult) : div\n",
      "input first number : 55\n",
      "input second number : 0\n",
      "input second number not equal to zero : 0\n",
      "input second number not equal to zero : 0\n",
      "input second number not equal to zero : 0\n",
      "input second number not equal to zero : 5\n",
      " Result =  11.0\n",
      "if u wanna continue enter (yes) , if not enter (stop) : stop\n",
      "thank u for using our CALCULATOR\n"
     ]
    }
   ],
   "source": [
    "def Calculator(x,y,equation) :\n",
    "    if \"sum\" in equation :\n",
    "        return x+y\n",
    "    elif \"sub\" in equation :\n",
    "        return x-y \n",
    "    elif \"mult\" in equation :  \n",
    "        return x*y\n",
    "    elif \"div\" in equation :\n",
    "        return x/y\n",
    "\n",
    "ask = \"yes\"\n",
    "while ask != \"stop\" :\n",
    "    equation = input(\"please enter Calculator mode (sum - sub - div - mult) : \")\n",
    "    if \"sum\" in equation or  \"div\" in equation  or \"sub\" in equation or  \"mult\"in equation  :\n",
    "        while True:\n",
    "            try:\n",
    "                a = float(input('input first number : '))\n",
    "                break\n",
    "            except ValueError:\n",
    "                print('please enter valid number.')\n",
    "                continue\n",
    "        while True:\n",
    "            try:\n",
    "                b = float(input('input second number : ')) \n",
    "                break\n",
    "            except ValueError:\n",
    "                print('please enter valid number.')\n",
    "                continue\n",
    "        if \"div\" in equation : \n",
    "            while True : \n",
    "                if b == 0 :\n",
    "                    b = float(input('input second number not equal to zero : ')) \n",
    "                    continue\n",
    "                else :\n",
    "                    break \n",
    "        answer = Calculator(a,b,equation)\n",
    "        print ( \" Result = \" , answer )\n",
    "        ask = input(\"if u wanna continue enter (yes) , if not enter (stop) : \")\n",
    "\n",
    "print (\"thank u for using our CALCULATOR\")\n",
    "\n",
    "        "
   ]
  }
 ],
 "metadata": {
  "kernelspec": {
   "display_name": "Python 3 (ipykernel)",
   "language": "python",
   "name": "python3"
  },
  "language_info": {
   "codemirror_mode": {
    "name": "ipython",
    "version": 3
   },
   "file_extension": ".py",
   "mimetype": "text/x-python",
   "name": "python",
   "nbconvert_exporter": "python",
   "pygments_lexer": "ipython3",
   "version": "3.9.12"
  }
 },
 "nbformat": 4,
 "nbformat_minor": 5
}
