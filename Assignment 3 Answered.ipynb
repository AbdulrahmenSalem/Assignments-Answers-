{
 "cells": [
  {
   "cell_type": "markdown",
   "metadata": {},
   "source": [
    "# Assignment 3"
   ]
  },
  {
   "cell_type": "markdown",
   "metadata": {},
   "source": [
    "### Write a function to count the number 4 in a given list."
   ]
  },
  {
   "cell_type": "code",
   "execution_count": 1,
   "metadata": {},
   "outputs": [
    {
     "data": {
      "text/plain": [
       "3"
      ]
     },
     "execution_count": 1,
     "metadata": {},
     "output_type": "execute_result"
    }
   ],
   "source": [
    "# X is number which we wanna count and Y is list\n",
    "def counter(x,y):\n",
    "    count = 0\n",
    "    for i in range (0,len(y)):\n",
    "        if x == y[i]:\n",
    "            count+=1\n",
    "    return count\n",
    "a=[5,4,3,2,4,8,5,1,2,5,4]\n",
    "b=4\n",
    "counter(4,a)"
   ]
  },
  {
   "cell_type": "markdown",
   "metadata": {},
   "source": [
    "### write a  function to check whether a number is divisible by another number."
   ]
  },
  {
   "cell_type": "code",
   "execution_count": 2,
   "metadata": {},
   "outputs": [
    {
     "name": "stdout",
     "output_type": "stream",
     "text": [
      "Yes : Number 30 is divisible by 10 =  3.0\n"
     ]
    }
   ],
   "source": [
    "def cheak (x,y):\n",
    "    if x%y==0 :\n",
    "        return print(\"Yes : Number {} is divisible by {} = \".format(x,y) ,  x/y)\n",
    "    else :\n",
    "        return print(\"No : Number {} is not divisible by {}\".format(x,y))\n",
    "cheak(30,10)"
   ]
  },
  {
   "cell_type": "markdown",
   "metadata": {},
   "source": [
    "### write a function to find the maximum and minimum numbers from a sequence of numbers."
   ]
  },
  {
   "cell_type": "code",
   "execution_count": 3,
   "metadata": {},
   "outputs": [
    {
     "name": "stdout",
     "output_type": "stream",
     "text": [
      "enter number : 5\n",
      "enter number : 99\n",
      "enter number : 23\n",
      "enter number : 15\n",
      "enter number : 2\n",
      "enter number : 3369\n",
      "enter number : 2\n",
      "enter number : 4887\n",
      "enter number : 235\n",
      "enter number : 22\n",
      "Maximum number is 4887 and Minimum number is 2\n"
     ]
    }
   ],
   "source": [
    "def maxmin(x):\n",
    "    return print(\"Maximum number is {} and Minimum number is {}\".format(max(x) , min(x)))\n",
    "\n",
    "y=[]\n",
    "for i in range ( 0 , 10) :\n",
    "    a = int (input (\"enter number : \"))\n",
    "    y.append(a)\n",
    "\n",
    "maxmin(y)\n",
    "\n"
   ]
  },
  {
   "cell_type": "markdown",
   "metadata": {},
   "source": [
    "### Write a Python function that takes two lists and returns True if they have at least one common member."
   ]
  },
  {
   "cell_type": "code",
   "execution_count": 4,
   "metadata": {},
   "outputs": [
    {
     "name": "stdout",
     "output_type": "stream",
     "text": [
      "true\n"
     ]
    }
   ],
   "source": [
    "def lists(z,q):\n",
    "    for i in range (0,len(z)):\n",
    "        if z[i] in q :\n",
    "            print (\"true\")\n",
    "            break\n",
    "    \n",
    "a = [1,2,3,4,\"mo\",6,7,8,9,14]\n",
    "b=[10,\"mo\",11,12,13,\"14\"]\n",
    "lists(a,b)\n"
   ]
  },
  {
   "cell_type": "markdown",
   "metadata": {},
   "source": [
    "### Write a Python function to calculate the factorial of a number (a non-negative integer). The function accepts the number from the user"
   ]
  },
  {
   "cell_type": "code",
   "execution_count": 5,
   "metadata": {},
   "outputs": [
    {
     "name": "stdout",
     "output_type": "stream",
     "text": [
      "enter number : 200\n"
     ]
    },
    {
     "data": {
      "text/plain": [
       "788657867364790503552363213932185062295135977687173263294742533244359449963403342920304284011984623904177212138919638830257642790242637105061926624952829931113462857270763317237396988943922445621451664240254033291864131227428294853277524242407573903240321257405579568660226031904170324062351700858796178922222789623703897374720000000000000000000000000000000000000000000000000"
      ]
     },
     "execution_count": 5,
     "metadata": {},
     "output_type": "execute_result"
    }
   ],
   "source": [
    "def fact(f):\n",
    "    if f == 1 :\n",
    "        return 1\n",
    "    else :\n",
    "        return  f * fact(f-1)\n",
    "a=int(input(\"enter number : \" ))\n",
    "fact(a)\n",
    "    "
   ]
  },
  {
   "cell_type": "markdown",
   "metadata": {},
   "source": [
    "### Write a Python function to check whether a number is in a given range.\n",
    "\n",
    "### The range is from 3 to 11\n"
   ]
  },
  {
   "cell_type": "code",
   "execution_count": 6,
   "metadata": {},
   "outputs": [
    {
     "name": "stdout",
     "output_type": "stream",
     "text": [
      "In Range\n",
      "out of Range\n"
     ]
    }
   ],
   "source": [
    "def ran(x):\n",
    "    if x <= 11 and x >=3 :\n",
    "        return \"In Range\"\n",
    "    else :\n",
    "        return \"out of Range\"\n",
    "print(ran(9))\n",
    "print(ran(12))\n"
   ]
  },
  {
   "cell_type": "markdown",
   "metadata": {},
   "source": [
    "### Write a  program to create the multiplication table (from 1 to 10) of a number."
   ]
  },
  {
   "cell_type": "code",
   "execution_count": 7,
   "metadata": {},
   "outputs": [
    {
     "name": "stdout",
     "output_type": "stream",
     "text": [
      "100 * 1 = :  100\n",
      "100 * 2 = :  200\n",
      "100 * 3 = :  300\n",
      "100 * 4 = :  400\n",
      "100 * 5 = :  500\n",
      "100 * 6 = :  600\n",
      "100 * 7 = :  700\n",
      "100 * 8 = :  800\n",
      "100 * 9 = :  900\n",
      "100 * 10 = :  1000\n"
     ]
    }
   ],
   "source": [
    "def mult(x,i=1):\n",
    "    if i > 10 :\n",
    "        return \n",
    "        \n",
    "    else :\n",
    "        print (\"{} * {} = : \".format(x,i) ,  x*i)\n",
    "        return mult(x,i+1)\n",
    "mult(100)"
   ]
  },
  {
   "cell_type": "markdown",
   "metadata": {},
   "source": [
    "#### LESSER OF TWO EVENS: Write a function that returns the lesser of two given numbers *if* both numbers are even, but returns the greater if one or both numbers are odd\n",
    "    lesser_of_two_evens(2,4) --> 2\n",
    "    lesser_of_two_evens(2,5) --> 5"
   ]
  },
  {
   "cell_type": "code",
   "execution_count": 8,
   "metadata": {},
   "outputs": [
    {
     "data": {
      "text/plain": [
       "7"
      ]
     },
     "execution_count": 8,
     "metadata": {},
     "output_type": "execute_result"
    }
   ],
   "source": [
    "def even(x,y):\n",
    "    if x % 2 == 0 and y%2 == 0  :\n",
    "        if x > y :\n",
    "            return y\n",
    "        else : \n",
    "            return x\n",
    "    else :\n",
    "        if x > y :\n",
    "            return x\n",
    "        else : \n",
    "            return y\n",
    "even(7,4)"
   ]
  },
  {
   "cell_type": "markdown",
   "metadata": {},
   "source": [
    "#### ANIMAL CRACKERS: Write a function takes a two-word string and returns True if both words begin with same letter\n",
    "    animal_crackers('Levelheaded Llama') --> True\n",
    "    animal_crackers('Crazy Kangaroo') --> False"
   ]
  },
  {
   "cell_type": "code",
   "execution_count": 9,
   "metadata": {},
   "outputs": [
    {
     "data": {
      "text/plain": [
       "'True'"
      ]
     },
     "execution_count": 9,
     "metadata": {},
     "output_type": "execute_result"
    }
   ],
   "source": [
    "def animal(x,y):\n",
    "    if x[0] == y[0].upper() or x[0] == y[0].lower() :\n",
    "        return \"True\"\n",
    "    else:\n",
    "        return \"False\"\n",
    "animal(\"fady\",\"Fouad\")\n"
   ]
  },
  {
   "cell_type": "markdown",
   "metadata": {},
   "source": [
    "#### MAKES TWENTY: Given two integers, return True if the sum of the integers is 20 *or* if one of the integers is 20. If not, return False\n",
    "\n",
    "    makes_twenty(20,10) --> True\n",
    "    makes_twenty(12,8) --> True\n",
    "    makes_twenty(2,3) --> False"
   ]
  },
  {
   "cell_type": "code",
   "execution_count": 10,
   "metadata": {},
   "outputs": [
    {
     "data": {
      "text/plain": [
       "'True'"
      ]
     },
     "execution_count": 10,
     "metadata": {},
     "output_type": "execute_result"
    }
   ],
   "source": [
    "def twenty(a,b):\n",
    "    if (a == 20) or (b == 20) or (a+b == 20) :\n",
    "        return \"True\"\n",
    "    else :\n",
    "        return \"False\"\n",
    "\n",
    "twenty(19,1)"
   ]
  },
  {
   "cell_type": "markdown",
   "metadata": {},
   "source": [
    "#### ALMOST THERE: Given an integer n, return True if n is within 10 of either 100 or 200\n",
    "\n",
    "    almost_there(90) --> True\n",
    "    almost_there(104) --> True\n",
    "    almost_there(150) --> False\n",
    "    almost_there(209) --> True\n",
    "    \n",
    "NOTE: `abs(num)` returns the absolute value of a number"
   ]
  },
  {
   "cell_type": "code",
   "execution_count": 13,
   "metadata": {},
   "outputs": [
    {
     "name": "stdout",
     "output_type": "stream",
     "text": [
      "True\n",
      "false\n"
     ]
    }
   ],
   "source": [
    "def almost(x):\n",
    "    if 90 <= x <= 110 or 190 <= x <= 210 :\n",
    "        return\"True\"\n",
    "    else :\n",
    "        return \"false\"\n",
    "print(almost(208))\n",
    "print(almost(999))"
   ]
  },
  {
   "cell_type": "markdown",
   "metadata": {},
   "source": [
    "#### BLACKJACK: Given three integers between 1 and 11, if their sum is less than or equal to 21, return their sum. If their sum exceeds 21 *and* there's an eleven, reduce the total sum by 10. Finally, if the sum  exceeds 21, return 'BUST'\n",
    "    blackjack(5,6,7) --> 18\n",
    "    blackjack(9,9,9) --> 'BUST'\n",
    "    blackjack(9,9,11) --> 19"
   ]
  },
  {
   "cell_type": "code",
   "execution_count": 15,
   "metadata": {},
   "outputs": [
    {
     "name": "stdout",
     "output_type": "stream",
     "text": [
      "BUST\n",
      "17\n",
      "21\n"
     ]
    }
   ],
   "source": [
    "def black(x,y,z) :\n",
    "    if x + y + z <= 21 :\n",
    "        return x+y+z\n",
    "    elif x + y + z > 21 and (x==11 or y==11 or z==11) :\n",
    "        return x+y+z-10 \n",
    "    else :\n",
    "        return \"BUST\"\n",
    "\n",
    "print(black(5,9,12))\n",
    "print(black(8,8,11))\n",
    "print(black(11,10,10))"
   ]
  },
  {
   "cell_type": "code",
   "execution_count": null,
   "metadata": {},
   "outputs": [],
   "source": []
  }
 ],
 "metadata": {
  "kernelspec": {
   "display_name": "Python 3 (ipykernel)",
   "language": "python",
   "name": "python3"
  },
  "language_info": {
   "codemirror_mode": {
    "name": "ipython",
    "version": 3
   },
   "file_extension": ".py",
   "mimetype": "text/x-python",
   "name": "python",
   "nbconvert_exporter": "python",
   "pygments_lexer": "ipython3",
   "version": "3.9.12"
  }
 },
 "nbformat": 4,
 "nbformat_minor": 2
}
