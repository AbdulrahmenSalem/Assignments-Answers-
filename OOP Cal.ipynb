{
 "cells": [
  {
   "cell_type": "code",
   "execution_count": 2,
   "id": "7023f1ff",
   "metadata": {},
   "outputs": [
    {
     "name": "stdout",
     "output_type": "stream",
     "text": [
      "please enter Calculator operation (add - sub - div - mult) : div\n",
      "please enter first number to be calculate : a\n",
      "please enter Valid number \n",
      "please enter first number to be calculate : 5\n",
      "please enter second number to be calculate : 0\n",
      "please enter non zero number  : 5\n",
      "Result equal :  1.0\n",
      "if u wanna continue enter (yes) , if not enter (stop) : yes\n",
      "please enter Calculator operation (add - sub - div - mult) : syb\n",
      "please enter Calculator operation (add - sub - div - mult) : sub\n",
      "please enter first number to be calculate : 6\n",
      "please enter second number to be calculate : -1\n",
      "Result equal : 7.0\n",
      "if u wanna continue enter (yes) , if not enter (stop) : stop\n"
     ]
    }
   ],
   "source": [
    "class Input:\n",
    "    def __init__(self,x,y,equation):\n",
    "        self.x = x\n",
    "        self.y = y\n",
    "        self.equation = equation\n",
    "    @classmethod\n",
    "    def error_handling(cls) :\n",
    "        while True :\n",
    "            cls.equation = input(\"please enter Calculator operation (add - sub - div - mult) : \")\n",
    "            if \"add\" in cls.equation or  \"div\" in cls.equation  or \"sub\" in cls.equation or \"mult\" in cls.equation  : \n",
    "                break\n",
    "        while True :\n",
    "            try :\n",
    "                cls.x = float(input(\"please enter first number to be calculate : \"))\n",
    "                break\n",
    "            except ValueError :\n",
    "                print(\"please enter Valid number \")\n",
    "                continue\n",
    "        while True :\n",
    "            try :\n",
    "                cls.y = float(input(\"please enter second number to be calculate : \"))\n",
    "                break\n",
    "            except ValueError :\n",
    "                print(\"please enter Valid number \")\n",
    "                continue\n",
    "        while True :\n",
    "            if \"div\" in cls.equation and cls.y == 0 :\n",
    "                cls.y = float(input(\"please enter non zero number  : \"))\n",
    "                continue\n",
    "            else :\n",
    "                break  \n",
    "    def add() :\n",
    "        print (\"Result equal :\" , Input.x + Input.y)\n",
    "    def sub() :\n",
    "        print (\"Result equal :\" , Input.x - Input.y)\n",
    "    def mult() :\n",
    "        print (\"Result equal :\" , Input.x * Input.y)\n",
    "    def div() :\n",
    "        print (\"Result equal : \" , Input.x / Input.y)\n",
    "ask = \"yes\"\n",
    "while ask != \"stop\" :\n",
    "    Input.error_handling()\n",
    "    if \"add\" in Input.equation:\n",
    "        Input.add()\n",
    "    if \"sub\" in Input.equation:\n",
    "        Input.sub()\n",
    "    if \"mult\" in Input.equation:\n",
    "        Input.mult()\n",
    "    if \"div\" in Input.equation:\n",
    "        Input.div()\n",
    "    ask = input(\"if u wanna continue enter (yes) , if not enter (stop) : \")\n",
    "\n",
    "\n"
   ]
  },
  {
   "cell_type": "code",
   "execution_count": null,
   "id": "f1243f71",
   "metadata": {},
   "outputs": [],
   "source": []
  }
 ],
 "metadata": {
  "kernelspec": {
   "display_name": "Python 3 (ipykernel)",
   "language": "python",
   "name": "python3"
  },
  "language_info": {
   "codemirror_mode": {
    "name": "ipython",
    "version": 3
   },
   "file_extension": ".py",
   "mimetype": "text/x-python",
   "name": "python",
   "nbconvert_exporter": "python",
   "pygments_lexer": "ipython3",
   "version": "3.9.12"
  }
 },
 "nbformat": 4,
 "nbformat_minor": 5
}
